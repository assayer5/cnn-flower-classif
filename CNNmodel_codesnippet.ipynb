{
 "cells": [
  {
   "cell_type": "code",
   "execution_count": null,
   "id": "cb9c7462",
   "metadata": {},
   "outputs": [],
   "source": [
    "# code snippet of model structure\n",
    "# TPU setup (not shown) provided by kaggle"
   ]
  },
  {
   "cell_type": "code",
   "execution_count": null,
   "id": "165ab714",
   "metadata": {},
   "outputs": [],
   "source": [
    "\n",
    "with strategy.scope():\n",
    "    pretrained_model = tf.keras.applications.Xception(\n",
    "    #pretrained_model = tf.keras.applications.InceptionV3(\n",
    "    #pretrained_model = tf.keras.applications.VGG16(\n",
    "        weights='imagenet',\n",
    "        include_top=False ,\n",
    "        input_shape=[*IMAGE_SIZE, 3]\n",
    "    )\n",
    "    pretrained_model.trainable = False\n",
    "     \n",
    "    model = tf.keras.Sequential([\n",
    "        pretrained_model,\n",
    "        \n",
    "        tf.keras.layers.GlobalAveragePooling2D(),\n",
    "        tf.keras.layers.Dropout(0.3),\n",
    "        \n",
    "        tf.keras.layers.Dense(256, activation='relu'),\n",
    "        tf.keras.layers.Dense(128, activation='relu'),\n",
    "        \n",
    "        tf.keras.layers.Dense(len(CLASSES), activation='softmax')\n",
    "        \n",
    "    ])"
   ]
  },
  {
   "cell_type": "code",
   "execution_count": null,
   "id": "d1bf442f",
   "metadata": {},
   "outputs": [],
   "source": [
    "#optimizer = tf.keras.optimizers.Adam(learning_rate=0.005, epsilon=0.01)\n",
    "\n",
    "model.compile(\n",
    "    optimizer='adam',\n",
    "    #optimizer=optimizer,\n",
    "    loss = 'sparse_categorical_crossentropy',\n",
    "    metrics=['sparse_categorical_accuracy'],\n",
    ")\n",
    "\n",
    "model.summary()"
   ]
  }
 ],
 "metadata": {
  "kernelspec": {
   "display_name": "Python 3 (ipykernel)",
   "language": "python",
   "name": "python3"
  },
  "language_info": {
   "codemirror_mode": {
    "name": "ipython",
    "version": 3
   },
   "file_extension": ".py",
   "mimetype": "text/x-python",
   "name": "python",
   "nbconvert_exporter": "python",
   "pygments_lexer": "ipython3",
   "version": "3.8.3"
  }
 },
 "nbformat": 4,
 "nbformat_minor": 5
}
